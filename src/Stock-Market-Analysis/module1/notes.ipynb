{
 "cells": [
  {
   "cell_type": "markdown",
   "id": "925f72ae",
   "metadata": {},
   "source": [
    "# Task "
   ]
  },
  {
   "cell_type": "code",
   "execution_count": null,
   "id": "2f1d392a",
   "metadata": {
    "vscode": {
     "languageId": "plaintext"
    }
   },
   "outputs": [],
   "source": []
  }
 ],
 "metadata": {
  "language_info": {
   "name": "python"
  }
 },
 "nbformat": 4,
 "nbformat_minor": 5
}
